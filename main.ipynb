{
 "cells": [
  {
   "attachments": {},
   "cell_type": "markdown",
   "metadata": {},
   "source": [
    "# Prueba Técnica DTBRT\n"
   ]
  },
  {
   "attachments": {},
   "cell_type": "markdown",
   "metadata": {},
   "source": [
    "### Construir una solución de software que a partir de los datos contenidos en el archivo resources/PSO20220223, identifique por cada línea, sentido, tipodia, sublinea:\n",
    "* el minimo tiempo de recorrido (tr) de los atributos: optimo y minimo\n",
    "* el maximo tiempo del atributo de tr_maximo\n",
    "* el primero valor de la columna nodo_1\n",
    "* el ultimo valor de la columna nodo_2\n",
    "\n",
    "Lo anterior, teniendo en cuenta que el atributo trayecto es tambien conocido como sublinea y nodo_1 como nodo."
   ]
  },
  {
   "attachments": {},
   "cell_type": "markdown",
   "metadata": {},
   "source": [
    "### Construir una prueba unitaria que compare el resultado obtenido con cada una de las lineas del archivo resources/datos_esperados.csv"
   ]
  },
  {
   "attachments": {},
   "cell_type": "markdown",
   "metadata": {},
   "source": [
    "### Elaborar un descriptor docker en el que se pueda ejecutar la solución de software y la prueba unitaria"
   ]
  },
  {
   "attachments": {},
   "cell_type": "markdown",
   "metadata": {},
   "source": [
    "Autor: Andrés Felipe Sánchez    "
   ]
  }
 ],
 "metadata": {
  "kernelspec": {
   "display_name": "Python 3",
   "language": "python",
   "name": "python3"
  },
  "language_info": {
   "codemirror_mode": {
    "name": "ipython",
    "version": 3
   },
   "file_extension": ".py",
   "mimetype": "text/x-python",
   "name": "python",
   "nbconvert_exporter": "python",
   "pygments_lexer": "ipython3",
   "version": "3.8.5"
  },
  "orig_nbformat": 4
 },
 "nbformat": 4,
 "nbformat_minor": 2
}
